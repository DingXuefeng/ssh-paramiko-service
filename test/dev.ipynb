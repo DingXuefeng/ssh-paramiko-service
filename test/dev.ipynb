{
 "cells": [
  {
   "attachments": {},
   "cell_type": "markdown",
   "metadata": {},
   "source": [
    "# Test with jupyter"
   ]
  },
  {
   "attachments": {},
   "cell_type": "markdown",
   "metadata": {},
   "source": [
    "## Start the server\n",
    "- with vscode *RUN & DEBUG*\n",
    "- from command line `python service.py`\n",
    "- as docker container"
   ]
  },
  {
   "attachments": {},
   "cell_type": "markdown",
   "metadata": {},
   "source": [
    "## Test the server\n",
    "- with `curl`\n",
    "- with `jupyter`\n",
    "- with a simple webpage with javascript embeded"
   ]
  },
  {
   "cell_type": "code",
   "execution_count": 3,
   "metadata": {},
   "outputs": [
    {
     "name": "stdout",
     "output_type": "stream",
     "text": [
      "The autoreload extension is already loaded. To reload it, use:\n",
      "  %reload_ext autoreload\n"
     ]
    }
   ],
   "source": [
    "%load_ext autoreload\n",
    "%autoreload 2"
   ]
  },
  {
   "cell_type": "code",
   "execution_count": 1,
   "metadata": {},
   "outputs": [
    {
     "name": "stdout",
     "output_type": "stream",
     "text": [
      "===========command===========\n",
      "date\n",
      "===========command===========\n",
      "===========output===========\n",
      "Tue Apr 25 20:01:18 CST 2023\n",
      "\n",
      "===========output===========\n",
      "===========error===========\n",
      "\n",
      "===========error===========\n",
      "===========command===========\n",
      "date; sleep 2; date\n",
      "===========command===========\n",
      "===========output===========\n",
      "Tue Apr 25 20:01:19 CST 2023\n",
      "Tue Apr 25 20:01:21 CST 2023\n",
      "\n",
      "===========output===========\n",
      "===========error===========\n",
      "\n",
      "===========error===========\n"
     ]
    }
   ],
   "source": [
    "import requests\n",
    "\n",
    "url = \"http://127.0.0.1:5000\"\n",
    "# response = requests.post(url+'/reset')\n",
    "# print(response.json())\n",
    "\n",
    "for command in ['date','; '.join(['date','sleep 2','date'])]:\n",
    "    data = {\"command\": command}\n",
    "    response = requests.post(url+'/submit', json=data)\n",
    "    rjson = response.json()\n",
    "    print('===========command===========')\n",
    "    print(command)\n",
    "    print('===========command===========')\n",
    "    print('===========output===========')\n",
    "    print(rjson['output'])\n",
    "    print('===========output===========')\n",
    "    print('===========error===========')\n",
    "    print(rjson['error'])\n",
    "    print('===========error===========')"
   ]
  },
  {
   "cell_type": "code",
   "execution_count": 2,
   "metadata": {},
   "outputs": [
    {
     "name": "stdout",
     "output_type": "stream",
     "text": [
      "collecting resource\n"
     ]
    },
    {
     "name": "stderr",
     "output_type": "stream",
     "text": [
      "."
     ]
    },
    {
     "name": "stdout",
     "output_type": "stream",
     "text": [
      "start!\n",
      "wating for command to finish\n"
     ]
    },
    {
     "name": "stderr",
     "output_type": "stream",
     "text": [
      ".\n",
      "----------------------------------------------------------------------\n",
      "Ran 2 tests in 1.704s\n",
      "\n",
      "OK\n"
     ]
    },
    {
     "name": "stdout",
     "output_type": "stream",
     "text": [
      "output: Hello, World!\n",
      "\n",
      "error: \n",
      "releasing resource\n"
     ]
    },
    {
     "data": {
      "text/plain": [
       "<unittest.runner.TextTestResult run=2 errors=0 failures=0>"
      ]
     },
     "execution_count": 2,
     "metadata": {},
     "output_type": "execute_result"
    }
   ],
   "source": [
    "import sys\n",
    "sys.path.insert(0, '..')\n",
    "import unittest\n",
    "import test_service  # Replace this with the import path to your test module\n",
    "suite = unittest.defaultTestLoader.loadTestsFromModule(test_service)\n",
    "unittest.TextTestRunner().run(suite)"
   ]
  },
  {
   "cell_type": "code",
   "execution_count": null,
   "metadata": {},
   "outputs": [],
   "source": []
  }
 ],
 "metadata": {
  "kernelspec": {
   "display_name": "htcondor",
   "language": "python",
   "name": "python3"
  },
  "language_info": {
   "codemirror_mode": {
    "name": "ipython",
    "version": 3
   },
   "file_extension": ".py",
   "mimetype": "text/x-python",
   "name": "python",
   "nbconvert_exporter": "python",
   "pygments_lexer": "ipython3",
   "version": "3.11.3"
  },
  "orig_nbformat": 4
 },
 "nbformat": 4,
 "nbformat_minor": 2
}
