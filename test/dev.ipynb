{
 "cells": [
  {
   "attachments": {},
   "cell_type": "markdown",
   "metadata": {},
   "source": [
    "# Test with jupyter"
   ]
  },
  {
   "attachments": {},
   "cell_type": "markdown",
   "metadata": {},
   "source": [
    "## Start the server\n",
    "- with vscode *RUN & DEBUG*\n",
    "- from command line `python service.py`\n",
    "- as docker container"
   ]
  },
  {
   "attachments": {},
   "cell_type": "markdown",
   "metadata": {},
   "source": [
    "## Test the server\n",
    "- with `curl`\n",
    "- with `jupyter`\n",
    "- with a simple webpage with javascript embeded"
   ]
  },
  {
   "cell_type": "code",
   "execution_count": 60,
   "metadata": {},
   "outputs": [
    {
     "name": "stdout",
     "output_type": "stream",
     "text": [
      "===========command===========\n",
      "date\n",
      "===========command===========\n",
      "===========output===========\n",
      "Tue Apr 25 10:06:40 CST 2023\n",
      "\n",
      "===========output===========\n",
      "===========error===========\n",
      "\n",
      "===========error===========\n",
      "===========command===========\n",
      "date; sleep 5; date\n",
      "===========command===========\n",
      "===========output===========\n",
      "Tue Apr 25 10:06:41 CST 2023\n",
      "Tue Apr 25 10:06:46 CST 2023\n",
      "\n",
      "===========output===========\n",
      "===========error===========\n",
      "\n",
      "===========error===========\n"
     ]
    }
   ],
   "source": [
    "import requests\n",
    "\n",
    "url = \"http://127.0.0.1:5000\"\n",
    "# response = requests.post(url+'/reset')\n",
    "# print(response.json())\n",
    "\n",
    "for command in ['date','; '.join(['date','sleep 5','date'])]:\n",
    "    data = {\"command\": command}\n",
    "    response = requests.post(url+'/submit', json=data)\n",
    "    rjson = response.json()\n",
    "    print('===========command===========')\n",
    "    print(command)\n",
    "    print('===========command===========')\n",
    "    print('===========output===========')\n",
    "    print(rjson['output'])\n",
    "    print('===========output===========')\n",
    "    print('===========error===========')\n",
    "    print(rjson['error'])\n",
    "    print('===========error===========')"
   ]
  },
  {
   "cell_type": "code",
   "execution_count": null,
   "metadata": {},
   "outputs": [],
   "source": []
  },
  {
   "cell_type": "code",
   "execution_count": null,
   "metadata": {},
   "outputs": [],
   "source": []
  }
 ],
 "metadata": {
  "kernelspec": {
   "display_name": "htcondor",
   "language": "python",
   "name": "python3"
  },
  "language_info": {
   "codemirror_mode": {
    "name": "ipython",
    "version": 3
   },
   "file_extension": ".py",
   "mimetype": "text/x-python",
   "name": "python",
   "nbconvert_exporter": "python",
   "pygments_lexer": "ipython3",
   "version": "3.11.3"
  },
  "orig_nbformat": 4
 },
 "nbformat": 4,
 "nbformat_minor": 2
}
